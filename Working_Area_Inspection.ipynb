{
  "cells": [
    {
      "cell_type": "markdown",
      "metadata": {
        "id": "view-in-github",
        "colab_type": "text"
      },
      "source": [
        "<a href=\"https://colab.research.google.com/github/taekg/AGV_Project/blob/main/Working_Area_Inspection.ipynb\" target=\"_parent\"><img src=\"https://colab.research.google.com/assets/colab-badge.svg\" alt=\"Open In Colab\"/></a>"
      ]
    },
    {
      "cell_type": "markdown",
      "metadata": {
        "id": "b0Bo0QrQ5x5t"
      },
      "source": [
        "# 4장. Working Area Inspection\n",
        "우선, 인공지능 무인운반차량(AGV)을 수동 조작하여 map에 있는 색상 값의 HSV 값을 조사하도록 하겠습니다."
      ]
    },
    {
      "cell_type": "markdown",
      "metadata": {
        "id": "iJCo0-TC5x5v"
      },
      "source": [
        "## 라이브러리 가져오기"
      ]
    },
    {
      "cell_type": "code",
      "execution_count": null,
      "metadata": {
        "id": "MjKUmgie5x5w"
      },
      "outputs": [],
      "source": [
        "from IPython.display import display\n",
        "import ipywidgets\n",
        "import ipywidgets.widgets as widgets\n",
        "import traitlets\n",
        "from jetbot import Robot, Camera, bgr8_to_jpeg\n",
        "\n",
        "import threading\n",
        "import cv2\n",
        "import numpy as np\n",
        "import time"
      ]
    },
    {
      "cell_type": "markdown",
      "metadata": {
        "id": "pPOeunSg5x5x"
      },
      "source": [
        "## 카메라, 로봇 객체 초기화하기"
      ]
    },
    {
      "cell_type": "code",
      "execution_count": null,
      "metadata": {
        "id": "lNwfu8ZX5x5x"
      },
      "outputs": [],
      "source": [
        "robot = Robot()\n",
        "camera = Camera()"
      ]
    },
    {
      "cell_type": "markdown",
      "metadata": {
        "id": "Q9l7vAAU5x5x"
      },
      "source": [
        "## widget 생성하기"
      ]
    },
    {
      "cell_type": "code",
      "execution_count": null,
      "metadata": {
        "colab": {
          "referenced_widgets": [
            "386801de977f4acd8654381449da374d"
          ]
        },
        "id": "lmLupy7v5x5x",
        "outputId": "d38ff8a5-8260-40ee-fd16-dd3c9eef214f"
      },
      "outputs": [
        {
          "data": {
            "application/vnd.jupyter.widget-view+json": {
              "model_id": "386801de977f4acd8654381449da374d",
              "version_major": 2,
              "version_minor": 0
            },
            "text/plain": [
              "HBox(children=(VBox(children=(HBox(children=(Label(value='Max :'), Label(value='0'))), HBox(children=(Label(va…"
            ]
          },
          "metadata": {},
          "output_type": "display_data"
        }
      ],
      "source": [
        "# 최대, 최소 HSV 값 표시하는 레이블 생성\n",
        "lbl1 = ipywidgets.Label(value=\"Max :\")\n",
        "colorlblMax = ipywidgets.Label(value=\"0\")\n",
        "hbox1 = widgets.HBox([lbl1, colorlblMax] )\n",
        "\n",
        "lbl2 = ipywidgets.Label(value=\"Min :\")\n",
        "colorlblMin = ipywidgets.Label(value=\"0\")\n",
        "hbox2 = widgets.HBox([lbl2, colorlblMin])\n",
        "\n",
        "image_widget = ipywidgets.Image(format='jpeg', width=224, height=224)\n",
        "vbox1 = widgets.VBox([hbox1, hbox2, image_widget])\n",
        "\n",
        "#수동 조작용 버튼 생성\n",
        "lbl4 = ipywidgets.Label(value=\"Manual Controller\")\n",
        "button_layout = widgets.Layout(width='100px', height='80px', align_self='center')\n",
        "stop_button = widgets.Button(description='stop', button_style='danger', layout=button_layout)\n",
        "forward_button = widgets.Button(description='forward', layout=button_layout)\n",
        "backward_button = widgets.Button(description='backward', layout=button_layout)\n",
        "left_button = widgets.Button(description='left', layout=button_layout)\n",
        "right_button = widgets.Button(description='right', layout=button_layout)\n",
        "\n",
        "middle_box = widgets.HBox([left_button, stop_button, right_button], layout=widgets.Layout(align_self='center'))\n",
        "controls_box = widgets.VBox([lbl4,forward_button, middle_box, backward_button])\n",
        "hbox4 = widgets.HBox([vbox1, controls_box])\n",
        "display(hbox4)\n",
        "\n",
        "manual_btnlst = [stop_button, forward_button, backward_button, left_button, right_button]\n",
        "camera_link = traitlets.dlink((camera, 'value'), (image_widget, 'value'), transform=bgr8_to_jpeg)"
      ]
    },
    {
      "cell_type": "markdown",
      "metadata": {
        "id": "Yd8z8LAF5x5y"
      },
      "source": [
        "실행 결과  "
      ]
    },
    {
      "cell_type": "markdown",
      "metadata": {
        "id": "n5HJJnEN5x5y"
      },
      "source": [
        "## 버튼과 함수 바인딩하기"
      ]
    },
    {
      "cell_type": "code",
      "execution_count": null,
      "metadata": {
        "id": "4kf2ucdt5x5y"
      },
      "outputs": [],
      "source": [
        "def stop(change):\n",
        "    robot.stop()\n",
        "\n",
        "def step_forward(change):\n",
        "    robot.forward(0.4)\n",
        "\n",
        "def step_backward(change):\n",
        "    robot.backward(0.4)\n",
        "\n",
        "def step_left(change):\n",
        "    robot.left(0.3)\n",
        "    time.sleep(0.5)\n",
        "    robot.stop()\n",
        "\n",
        "def step_right(change):\n",
        "    robot.right(0.3)\n",
        "    time.sleep(0.5)\n",
        "    robot.stop()\n",
        "\n",
        "stop_button.on_click(stop)\n",
        "forward_button.on_click(step_forward)\n",
        "backward_button.on_click(step_backward)\n",
        "left_button.on_click(step_left)\n",
        "right_button.on_click(step_right)"
      ]
    },
    {
      "cell_type": "markdown",
      "metadata": {
        "id": "p5jKAmrN5x5z"
      },
      "source": [
        "## colorRecog() 클래스 생성하기"
      ]
    },
    {
      "cell_type": "code",
      "execution_count": null,
      "metadata": {
        "id": "Au0y5eh_5x5z"
      },
      "outputs": [],
      "source": [
        "# 카메라 로 촬영한 frame 크기\n",
        "frame_width = 224\n",
        "frame_height = 224\n",
        "\n",
        "# class 종료 변수\n",
        "th_flag = True\n",
        "\n",
        "# HSV 값을 담아줄 리스트\n",
        "colorHSVvalueList = []\n",
        "\n",
        "# 최대 측정할 개수\n",
        "max_len = 20\n",
        "\n",
        "# WorkingArea 인식용 클래스\n",
        "def colorRecog():\n",
        "    while th_flag:\n",
        "        image = camera.value\n",
        "        hsv = cv2.cvtColor(image, cv2.COLOR_BGR2HSV)\n",
        "        hsv = cv2.blur(hsv, (15, 15))\n",
        "\n",
        "        # Center Pixel 의 hsv 값 읽어오기\n",
        "        hsvValue = hsv[int(frame_height/2), int(frame_width/2)]\n",
        "\n",
        "        # data 20개 모아서, 최대, 최소 값 구하기\n",
        "        colorHSVvalueList.append(hsvValue)\n",
        "        if len(colorHSVvalueList) > max_len:\n",
        "            del colorHSVvalueList[0]\n",
        "        max_h,max_s,max_v = np.maximum.reduce(colorHSVvalueList)\n",
        "        min_h,min_s,min_v = np.minimum.reduce(colorHSVvalueList)\n",
        "\n",
        "        # Center Pixel 주위에 20x20 크기의 사각형 그리기\n",
        "        rect_s = 20\n",
        "        cv2.rectangle(image,\n",
        "                      (int(frame_width/2)-int(rect_s/2),int(frame_height/2)-int(rect_s/2)),\n",
        "                      (int(frame_width/2)+int(rect_s/2),int(frame_height/2)+int(rect_s/2)),\n",
        "                      (255,255,255),1)\n",
        "\n",
        "        # max , min value 표시\n",
        "        cv2.putText(image,f'max_HSV:{ max_h,max_s,max_v }',(20,180), cv2.FONT_HERSHEY_SIMPLEX, 0.5,(0,255,255),1,cv2.LINE_AA)\n",
        "        cv2.putText(image,f'min_HSV:{ min_h,min_s,min_v }',(20,200), cv2.FONT_HERSHEY_SIMPLEX, 0.5,(255,255,255),1,cv2.LINE_AA)\n",
        "        colorlblMax.value = str(max_h)+\",\"+ str(max_s)+\",\"+ str(max_v)\n",
        "        colorlblMin.value = str(min_h)+\",\"+ str(min_s)+\",\"+ str(min_v)\n",
        "\n",
        "        image_widget.value = bgr8_to_jpeg(image)\n",
        "        time.sleep(0.01)"
      ]
    },
    {
      "cell_type": "markdown",
      "metadata": {
        "id": "kqDiNhDx5x5z"
      },
      "source": [
        "## 객체 생성하기\n",
        "아래 코드를 실행하면, 이제 카메라로 촬영한 frame 의 중심 pixel 의 HSV 값의 최대, 최소 값을 표시하게 됩니다."
      ]
    },
    {
      "cell_type": "code",
      "execution_count": null,
      "metadata": {
        "id": "hkHCY61V5x50"
      },
      "outputs": [],
      "source": [
        "image_thread = threading.Thread(target = colorRecog)\n",
        "image_thread.start()"
      ]
    },
    {
      "cell_type": "markdown",
      "metadata": {
        "id": "SxvGU3ob5x50"
      },
      "source": [
        "실행 결과   "
      ]
    },
    {
      "cell_type": "markdown",
      "metadata": {
        "id": "WPJ5LxsB5x50"
      },
      "source": []
    },
    {
      "cell_type": "markdown",
      "metadata": {
        "id": "oxqtTm1s5x50"
      },
      "source": [
        "## 프로젝트 종료\n",
        "Working Area 의 색상 조사를 모두 마쳤으면, 아래 코드를 실행해서 프로젝트를 종료합니다."
      ]
    },
    {
      "cell_type": "code",
      "execution_count": null,
      "metadata": {
        "id": "GvMMqM785x50"
      },
      "outputs": [],
      "source": [
        "th_flag = False\n",
        "image_thread.join()\n",
        "time.sleep(0.1)\n",
        "robot.stop()\n",
        "camera.stop()"
      ]
    }
  ],
  "metadata": {
    "kernelspec": {
      "display_name": "Python 3",
      "language": "python",
      "name": "python3"
    },
    "language_info": {
      "codemirror_mode": {
        "name": "ipython",
        "version": 3
      },
      "file_extension": ".py",
      "mimetype": "text/x-python",
      "name": "python",
      "nbconvert_exporter": "python",
      "pygments_lexer": "ipython3",
      "version": "3.6.9"
    },
    "colab": {
      "provenance": [],
      "include_colab_link": true
    }
  },
  "nbformat": 4,
  "nbformat_minor": 0
}