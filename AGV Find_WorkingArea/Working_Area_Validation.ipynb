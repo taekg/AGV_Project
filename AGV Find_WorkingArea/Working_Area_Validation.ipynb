{
  "cells": [
    {
      "cell_type": "markdown",
      "metadata": {
        "id": "view-in-github",
        "colab_type": "text"
      },
      "source": [
        "<a href=\"https://colab.research.google.com/github/taekg/AGV_Project/blob/main/Working_Area_Validation.ipynb\" target=\"_parent\"><img src=\"https://colab.research.google.com/assets/colab-badge.svg\" alt=\"Open In Colab\"/></a>"
      ]
    },
    {
      "cell_type": "markdown",
      "metadata": {
        "id": "1tiL7KeK7l9e"
      },
      "source": [
        "# 5장. Working Area Validation\n",
        "\n",
        "이전 챕터에서 우리가 조사한 Working Area 의 max, min HSV 값을 이용해서 카메라로 촬영한 frame 에서 색상을 찾습니다.  \n",
        "노이즈 제거 작업과 함께, 찾은 영역의 윤곽선을 따서, 윤곽선이 있는 지 없는 지 여부로 해당 Working Area 에 대한 HSV 값의 유효성을 판별합니다.  \n",
        "만약, 검증이 되지 않는다면, 다시 Inspection 노트북을 실행해서 해당 Working Area 에 대한 HSV 값 조사를 재실시 합니다.  \n",
        "\n",
        "검증 기준은 다음과 같습니다.\n",
        "1. 테스트하고자 하는 색상 영역이 보이면 인식할 수 있는가\n",
        "2. 테스트하는 색상 이외에 영역에서는 인식이 되지 않는가\n",
        "\n",
        "인공지능 무인운반차량(AGV)는 수동으로 제어할 수 있습니다."
      ]
    },
    {
      "cell_type": "markdown",
      "metadata": {
        "id": "YDj5Hff47l9i"
      },
      "source": [
        "## 라이브러리 가져오기"
      ]
    },
    {
      "cell_type": "code",
      "execution_count": null,
      "metadata": {
        "id": "aBvCBxct7l9j"
      },
      "outputs": [],
      "source": [
        "from IPython.display import display\n",
        "import ipywidgets\n",
        "import ipywidgets.widgets as widgets\n",
        "import traitlets\n",
        "from jetbot import Robot, Camera, bgr8_to_jpeg\n",
        "\n",
        "import threading\n",
        "import cv2\n",
        "import numpy as np\n",
        "import time"
      ]
    },
    {
      "cell_type": "markdown",
      "metadata": {
        "id": "IVMwKvMI7l9l"
      },
      "source": [
        "## 카메라, 로봇 객체 초기화하기"
      ]
    },
    {
      "cell_type": "code",
      "execution_count": null,
      "metadata": {
        "id": "tEqw9Na_7l9l"
      },
      "outputs": [],
      "source": [
        "robot = Robot()\n",
        "camera = Camera()"
      ]
    },
    {
      "cell_type": "markdown",
      "metadata": {
        "id": "ydcx6vfo7l9m"
      },
      "source": [
        "## widget 생성하기"
      ]
    },
    {
      "cell_type": "code",
      "execution_count": null,
      "metadata": {
        "id": "K8b9xJOF7l9m",
        "outputId": "dff3b13b-7364-4746-e911-d9dc85bdee2f",
        "colab": {
          "referenced_widgets": [
            "bef5909e95c7460a8737fca3c2200de3"
          ]
        }
      },
      "outputs": [
        {
          "data": {
            "application/vnd.jupyter.widget-view+json": {
              "model_id": "bef5909e95c7460a8737fca3c2200de3",
              "version_major": 2,
              "version_minor": 0
            },
            "text/plain": [
              "HBox(children=(VBox(children=(HBox(children=(Label(value='Max :'), Label(value='0'))), HBox(children=(Label(va…"
            ]
          },
          "metadata": {},
          "output_type": "display_data"
        }
      ],
      "source": [
        "# 최대, 최소 HSV 값 표시하는 레이블 생성\n",
        "lbl1 = ipywidgets.Label(value=\"Max :\")\n",
        "colorlblMax = ipywidgets.Label(value=\"0\")\n",
        "hbox1 = widgets.HBox([lbl1, colorlblMax] )\n",
        "\n",
        "lbl2 = ipywidgets.Label(value=\"Min :\")\n",
        "colorlblMin = ipywidgets.Label(value=\"0\")\n",
        "hbox2 = widgets.HBox([lbl2, colorlblMin])\n",
        "\n",
        "lbl3 = ipywidgets.Label(value=\"Color :\")\n",
        "colorlbl = ipywidgets.Label(value=\"None\")\n",
        "hbox3 = widgets.HBox([lbl3, colorlbl])\n",
        "\n",
        "image_widget = ipywidgets.Image(format='jpeg', width=224, height=224)\n",
        "vbox1 = widgets.VBox([hbox1, hbox2, hbox3,image_widget])\n",
        "\n",
        "#수동 조작용 버튼 생성\n",
        "lbl4 = ipywidgets.Label(value=\"Manual Controller\")\n",
        "button_layout = widgets.Layout(width='100px', height='80px', align_self='center')\n",
        "stop_button = widgets.Button(description='stop', button_style='danger', layout=button_layout)\n",
        "forward_button = widgets.Button(description='forward', layout=button_layout)\n",
        "backward_button = widgets.Button(description='backward', layout=button_layout)\n",
        "left_button = widgets.Button(description='left', layout=button_layout)\n",
        "right_button = widgets.Button(description='right', layout=button_layout)\n",
        "\n",
        "middle_box = widgets.HBox([left_button, stop_button, right_button], layout=widgets.Layout(align_self='center'))\n",
        "controls_box = widgets.VBox([lbl4,forward_button, middle_box, backward_button])\n",
        "hbox4 = widgets.HBox([vbox1, controls_box])\n",
        "display(hbox4)\n",
        "\n",
        "manual_btnlst = [stop_button, forward_button, backward_button, left_button, right_button]\n",
        "camera_link = traitlets.dlink((camera, 'value'), (image_widget, 'value'), transform=bgr8_to_jpeg)"
      ]
    },
    {
      "cell_type": "markdown",
      "metadata": {
        "id": "Z8VHSTzl7l9o"
      },
      "source": [
        "실행 결과  "
      ]
    },
    {
      "cell_type": "markdown",
      "metadata": {
        "id": "2WqEVEIa7l9o"
      },
      "source": [
        "## 버튼과 함수 바인딩하기"
      ]
    },
    {
      "cell_type": "code",
      "execution_count": null,
      "metadata": {
        "id": "ESj70yax7l9p"
      },
      "outputs": [],
      "source": [
        "def stop(change):\n",
        "    robot.stop()\n",
        "\n",
        "def step_forward(change):\n",
        "    robot.forward(0.4)\n",
        "\n",
        "def step_backward(change):\n",
        "    robot.backward(0.4)\n",
        "\n",
        "def step_left(change):\n",
        "    robot.left(0.3)\n",
        "    time.sleep(0.5)\n",
        "    robot.stop()\n",
        "\n",
        "def step_right(change):\n",
        "    robot.right(0.3)\n",
        "    time.sleep(0.5)\n",
        "    robot.stop()\n",
        "\n",
        "stop_button.on_click(stop)\n",
        "forward_button.on_click(step_forward)\n",
        "backward_button.on_click(step_backward)\n",
        "left_button.on_click(step_left)\n",
        "right_button.on_click(step_right)"
      ]
    },
    {
      "cell_type": "markdown",
      "metadata": {
        "id": "xXo1tps87l9p"
      },
      "source": [
        "## 변수와 리스트 생성하기"
      ]
    },
    {
      "cell_type": "code",
      "execution_count": null,
      "metadata": {
        "id": "hmMDgt4p7l9p"
      },
      "outputs": [],
      "source": [
        "# 검증할 색상의 index\n",
        "test_num = 4\n",
        "\n",
        "# 조사한 색상의 이름과 min, max HSV 값을 담은 리스트\n",
        "colors = [\n",
        "        {'name': 'red', 'lower': np.array([?, ?, ?]), 'upper': np.array([?, ?, ?]) },\n",
        "        {'name': 'green', 'lower': np.array([?, ?, ?]), 'upper': np.array([?, ?, ?]) },\n",
        "        {'name': 'blue', 'lower': np.array([?, ?, ?]), 'upper': np.array([?, ?, ?]) },\n",
        "        {'name': 'purple', 'lower': np.array([?, ?, ?]), 'upper': np.array([?, ?, ?]) },\n",
        "        {'name': 'yellow', 'lower': np.array([?, ?, ?]), 'upper': np.array([?, ?, ?]) },\n",
        "        {'name': 'orange', 'lower': np.array([?, ?, ?]), 'upper': np.array([?, ?, ?]) }\n",
        "        # Add more colors as needed\n",
        "    ]\n",
        "\n",
        "# 카메라로 촬영한 frame 크기\n",
        "frame_width = 224\n",
        "frame_height = 224\n",
        "\n",
        "# 카메라로 촬영한 frame 중심 좌표\n",
        "camera_center_X = int(frame_width/2)\n",
        "camera_center_Y = int(frame_height/2)\n",
        "\n",
        "# HSV 값을 담아줄 리스트\n",
        "colorHSVvalueList = []\n",
        "\n",
        "# 최대 측정할 개수\n",
        "max_len = 20"
      ]
    },
    {
      "cell_type": "markdown",
      "metadata": {
        "id": "i2AKMg7d7l9q"
      },
      "source": [
        "## WorkingAreaFind() 클래스 생성"
      ]
    },
    {
      "cell_type": "code",
      "execution_count": null,
      "metadata": {
        "id": "2eHCAbLU7l9q"
      },
      "outputs": [],
      "source": [
        "# 유효성 검증을 할 클래스 생성\n",
        "class WorkingAreaFind(threading.Thread):\n",
        "    def __init__(self):\n",
        "        super().__init__()\n",
        "        self.th_flag=True\n",
        "        self.imageInput = 0\n",
        "\n",
        "    def run(self):\n",
        "        while self.th_flag:\n",
        "            self.imageInput = camera.value\n",
        "            hsv = cv2.cvtColor(self.imageInput, cv2.COLOR_BGR2HSV)\n",
        "\n",
        "            #blur\n",
        "            hsv = cv2.blur(hsv, (15, 15))\n",
        "\n",
        "            #색깔인식 테스트용 코드\n",
        "            self.colorRecog(hsv)\n",
        "\n",
        "            # target 색상과 일치하는 픽셀에 대한 mask 생성\n",
        "            mask = cv2.inRange(hsv, colors[test_num]['lower'], colors[test_num]['upper'])\n",
        "\n",
        "            # 노이즈 제거를 위해 erode 실행\n",
        "            mask = cv2.erode(mask, None, iterations=2)\n",
        "            mask = cv2.dilate(mask, None, iterations=2)\n",
        "\n",
        "            # 해당 영역에 대한 윤곽선 따기\n",
        "            Contours, _ = cv2.findContours(mask.copy(), cv2.RETR_EXTERNAL, cv2.CHAIN_APPROX_SIMPLE)\n",
        "\n",
        "            # 해당 영역에 대한 윤곽선이 존재한다면, 영역을 발견했다면\n",
        "            if Contours:\n",
        "                self.colorAction(test_num, Contours)\n",
        "            # Working Area 를 못 찾았다면\n",
        "            else:\n",
        "                colorlbl.value = \"None\"\n",
        "            image_widget.value = bgr8_to_jpeg(self.imageInput)\n",
        "            time.sleep(0.1)\n",
        "\n",
        "\n",
        "    def colorAction(self, test_num, Contours):\n",
        "        # 검증된 Working Area 의 이름을 레이블에 표시\n",
        "        colorlbl.value = colors[test_num]['name']\n",
        "\n",
        "        # 찾은 영역 중 가장 큰 영역 찾기\n",
        "        c = max(Contours, key=cv2.contourArea)\n",
        "        # 가장 큰 영역에 내접하는 원을 그려 중심 점과 반지름 구하기\n",
        "        ((box_x, box_y), radius) = cv2.minEnclosingCircle(c)\n",
        "\n",
        "        X = int(box_x)\n",
        "        Y = int(box_y)\n",
        "\n",
        "        # 카메라 중심 pixel 로부터 찾은 Working Area의 중심 사이 떨어진 거리\n",
        "        error_Y = abs(camera_center_Y - Y)\n",
        "        error_X = abs(camera_center_X - X)\n",
        "\n",
        "        #rectangle(leftX,upY, rightX,downY)\n",
        "        cv2.rectangle(self.imageInput,(int(box_x-radius),int(box_y+radius)),(int(box_x+radius),int(box_y-radius)),(255,255,255),1)\n",
        "        cv2.putText(self.imageInput,f'error_X:{ error_X }',(X-30,Y-30), cv2.FONT_HERSHEY_SIMPLEX, 0.5,(255,255,255),1,cv2.LINE_AA)\n",
        "\n",
        "    # WorkingArea 인식용 클래스\n",
        "    def colorRecog(self, hsv):\n",
        "        # Center Pixel 의 hsv 값 읽어오기\n",
        "        hsvValue = hsv[int(frame_height/2), int(frame_width/2)]\n",
        "\n",
        "        # data 20개 모아서, 최대, 최소 값 구하기\n",
        "        colorHSVvalueList.append(hsvValue)\n",
        "        if len(colorHSVvalueList) > max_len:\n",
        "            del colorHSVvalueList[0]\n",
        "\n",
        "        max_h,max_s,max_v = np.maximum.reduce(colorHSVvalueList)\n",
        "        min_h,min_s,min_v = np.minimum.reduce(colorHSVvalueList)\n",
        "\n",
        "        # Center Pixel 주위에 20x20 크기의 사각형 그리기\n",
        "        rect_s = 20\n",
        "        cv2.rectangle(self.imageInput,\n",
        "                      (int(frame_width/2)-int(rect_s/2),int(frame_height/2)-int(rect_s/2)),\n",
        "                      (int(frame_width/2)+int(rect_s/2),int(frame_height/2)+int(rect_s/2)),\n",
        "                      (0,0,255),1)\n",
        "\n",
        "        #max , min value 표시\n",
        "        cv2.putText(self.imageInput,f'max_HSV:{ max_h,max_s,max_v }',(20,180), cv2.FONT_HERSHEY_SIMPLEX, 0.5,(0,255,255),1,cv2.LINE_AA)\n",
        "        cv2.putText(self.imageInput,f'min_HSV:{ min_h,min_s,min_v }',(20,200), cv2.FONT_HERSHEY_SIMPLEX, 0.5,(255,255,255),1,cv2.LINE_AA)\n",
        "        colorlblMax.value = str(max_h)+\",\"+ str(max_s)+\",\"+ str(max_v)\n",
        "        colorlblMin.value = str(min_h)+\",\"+ str(min_s)+\",\"+ str(min_v)\n",
        "\n",
        "    def stop(self):\n",
        "        self.th_flag = False\n",
        "        robot.stop()"
      ]
    },
    {
      "cell_type": "markdown",
      "metadata": {
        "id": "g9-wp_cD7l9q"
      },
      "source": [
        "## 객체 생성하기"
      ]
    },
    {
      "cell_type": "code",
      "execution_count": null,
      "metadata": {
        "id": "hzPS5Mc-7l9q"
      },
      "outputs": [],
      "source": [
        "AreaFinding = WorkingAreaFind()\n",
        "AreaFinding.start()"
      ]
    },
    {
      "cell_type": "markdown",
      "metadata": {
        "id": "UaEbkSSN7l9q"
      },
      "source": [
        "실행 결과  \n"
      ]
    },
    {
      "cell_type": "markdown",
      "metadata": {
        "id": "LjdAAQ0Y7l9r"
      },
      "source": []
    },
    {
      "cell_type": "markdown",
      "metadata": {
        "id": "ZQxsGVEj7l9r"
      },
      "source": [
        "## 프로젝트 종료하기\n",
        "아래 코드를 실행해서 프로젝트를 종료합니다."
      ]
    },
    {
      "cell_type": "code",
      "execution_count": null,
      "metadata": {
        "id": "esfS_zDG7l9r",
        "outputId": "4ea94182-655e-4a58-f74a-5e9fe2aec9e4"
      },
      "outputs": [
        {
          "name": "stdout",
          "output_type": "stream",
          "text": [
            "End\n"
          ]
        }
      ],
      "source": [
        "AreaFinding.stop()\n",
        "AreaFinding.join()\n",
        "time.sleep(0.1)\n",
        "robot.stop()\n",
        "camera.stop()\n",
        "print('End')"
      ]
    },
    {
      "cell_type": "markdown",
      "metadata": {
        "id": "c8qWD4W37l9r"
      },
      "source": [
        "이제 다음 챕터에서는 Road Following 기능과 함께 Working Area Recognition 기능이 동작하는 지 테스트합니다."
      ]
    }
  ],
  "metadata": {
    "kernelspec": {
      "display_name": "Python 3",
      "language": "python",
      "name": "python3"
    },
    "language_info": {
      "codemirror_mode": {
        "name": "ipython",
        "version": 3
      },
      "file_extension": ".py",
      "mimetype": "text/x-python",
      "name": "python",
      "nbconvert_exporter": "python",
      "pygments_lexer": "ipython3",
      "version": "3.6.9"
    },
    "colab": {
      "provenance": [],
      "include_colab_link": true
    }
  },
  "nbformat": 4,
  "nbformat_minor": 0
}
