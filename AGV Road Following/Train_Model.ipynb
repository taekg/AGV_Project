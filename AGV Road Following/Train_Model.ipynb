{
  "cells": [
    {
      "cell_type": "markdown",
      "metadata": {
        "id": "view-in-github",
        "colab_type": "text"
      },
      "source": [
        "<a href=\"https://colab.research.google.com/github/taekg/AGV_Project/blob/main/Train_Model.ipynb\" target=\"_parent\"><img src=\"https://colab.research.google.com/assets/colab-badge.svg\" alt=\"Open In Colab\"/></a>"
      ]
    },
    {
      "cell_type": "markdown",
      "metadata": {
        "id": "fqAoWzb83fCZ"
      },
      "source": [
        "# 3장. Train Model\n",
        "이번 챕터에서는 수집한 이미지를 받아들여 목표에 해당하는 일련의 x, y 값 집합을 출력하는 신경망을 훈련할 것입니다.  \n",
        "Road following을 위해 ResNet18 신경망 아키텍처 모델을 훈련하기 위해 PyTorch 딥러닝 프레임워크를 사용할 것입니다.  \n",
        "\n",
        "이전 챕터에서 ‘dataset_xy_test’ 에 저장한 데이터를 갖고 model을 학습할 예정입니다.  \n",
        "다만, 외부에서 데이터를 수집해서 갖고 오고자 하는 경우, data 파일들을 압축해서 현재 챕터에서 사용할 노트북 파일과 같은 경로에 업로드 해주시길 바랍니다."
      ]
    },
    {
      "cell_type": "markdown",
      "metadata": {
        "id": "Vr7TcwIU3fCd"
      },
      "source": [
        "## 외부 파일 가져오기\n",
        "아래 명령어를 사용해서 압축을 풀어줍니다.  파일명에 주의합니다."
      ]
    },
    {
      "cell_type": "code",
      "execution_count": null,
      "metadata": {
        "id": "bEcQp7me3fCe"
      },
      "outputs": [],
      "source": [
        "!unzip -q road_following.zip"
      ]
    },
    {
      "cell_type": "markdown",
      "metadata": {
        "id": "0PJRd6tm3fCg"
      },
      "source": [
        "## 라이브러리 가져오기"
      ]
    },
    {
      "cell_type": "code",
      "execution_count": null,
      "metadata": {
        "id": "9834bux63fCg"
      },
      "outputs": [],
      "source": [
        "import torch\n",
        "import torch.optim as optim\n",
        "import torch.nn.functional as F\n",
        "import torchvision\n",
        "import torchvision.datasets as datasets\n",
        "import torchvision.models as models\n",
        "import torchvision.transforms as transforms\n",
        "import glob\n",
        "import PIL.Image\n",
        "import os\n",
        "import numpy as np"
      ]
    },
    {
      "cell_type": "markdown",
      "metadata": {
        "id": "MGya_Wy83fCh"
      },
      "source": [
        "## DataSet 인스턴스 생성하기\n",
        "여기에서는 torch.utils.data.Dataset 클래스를 구현하는 사용자 정의 클래스를 생성합니다.  \n",
        "이 클래스는 len 및 getitem 함수를 구현합니다. 이 클래스는 이미지를 로드하고 이미지 파일 이름에서 x, y 값을 파싱하는 역할을 합니다.   \n",
        "torch.utils.data.Dataset 클래스를 구현했으므로 torch 데이터 유틸리티를 모두 사용할 수 있습니다.  \n",
        "\n",
        "우리는 데이터셋에 일부 변환(예: 색상 변형)을 하드 코딩했습니다.  \n",
        "우리는 무작위 수평 뒤집기를 선택 사항으로 만들었습니다(인공지능 무인운반차량(AGV)이 '오른쪽에 머무르는' 도로와 같이 비대칭 적인 경로를 따라가고 싶을 때).  \n",
        "인공지능 무인운반차량(AGV)이 어떤 관습을 따르는 지 여부가 중요하지 않은 경우, 뒤집기를 활성화하여 데이터셋을 증강할 수 있습니다."
      ]
    },
    {
      "cell_type": "code",
      "execution_count": null,
      "metadata": {
        "id": "wkvmEvaq3fCh"
      },
      "outputs": [],
      "source": [
        "DATASET_DIR = 'dataset_xy_test'\n",
        "\n",
        "#image 이름으로 저장된 x 값을 읽어 오는 함수\n",
        "def get_x(path):\n",
        "    \"\"\"Gets the x value from the image filename\"\"\"\n",
        "    return (float(int(path[3:6])) - 50.0) / 50.0\n",
        "\n",
        "#image 이름으로 저장된 y 값을 읽어 오는 함수\n",
        "def get_y(path):\n",
        "    \"\"\"Gets the y value from the image filename\"\"\"\n",
        "    return (float(int(path[7:10])) - 50.0) / 50.0\n",
        "\n",
        "\n",
        "class XYDataset(torch.utils.data.Dataset):\n",
        "    def __init__(self, directory, random_hflips=False):\n",
        "        self.directory = directory\n",
        "        self.random_hflips = random_hflips\n",
        "        self.image_paths = glob.glob(os.path.join(self.directory, '*.jpg'))\n",
        "        self.color_jitter = transforms.ColorJitter(0.3, 0.3, 0.3, 0.3)\n",
        "\n",
        "    def __len__(self):\n",
        "        return len(self.image_paths)\n",
        "\n",
        "    def __getitem__(self, idx):\n",
        "        image_path = self.image_paths[idx]\n",
        "\n",
        "        image = PIL.Image.open(image_path)\n",
        "        x = float(get_x(os.path.basename(image_path)))\n",
        "        y = float(get_y(os.path.basename(image_path)))\n",
        "\n",
        "        if float(np.random.rand(1)) > 0.5:\n",
        "            image = transforms.functional.hflip(image)\n",
        "            x = -x\n",
        "\n",
        "        image = self.color_jitter(image)\n",
        "        image = transforms.functional.resize(image, (224, 224))\n",
        "        image = transforms.functional.to_tensor(image)\n",
        "        image = image.numpy()[::-1].copy()\n",
        "        image = torch.from_numpy(image)\n",
        "        image = transforms.functional.normalize(image, [0.485, 0.456, 0.406], [0.229, 0.224, 0.225])\n",
        "\n",
        "        return image, torch.tensor([x, y]).float()\n",
        "\n",
        "dataset = XYDataset(DATASET_DIR, random_hflips=False)"
      ]
    },
    {
      "cell_type": "markdown",
      "metadata": {
        "id": "dEywshK33fCi"
      },
      "source": [
        "## DataSet 분할하기\n",
        "데이터셋을 읽은 후에는 데이터셋을 훈련 세트와 테스트 세트로 분할할 것입니다.  \n",
        "이 예에서는 훈련 세트와 테스트 세트를 90%-10%로 분할합니다.   \n",
        "테스트 세트는 훈련한 모델의 정확도를 검증하는 데 사용될 것입니다."
      ]
    },
    {
      "cell_type": "code",
      "execution_count": null,
      "metadata": {
        "id": "0oFDTzys3fCj"
      },
      "outputs": [],
      "source": [
        "test_percent = 0.1\n",
        "num_test = int(test_percent * len(dataset))\n",
        "train_dataset, test_dataset = torch.utils.data.random_split(dataset, [len(dataset) - num_test, num_test])"
      ]
    },
    {
      "cell_type": "markdown",
      "metadata": {
        "id": "poxh_e533fCj"
      },
      "source": [
        "## DataLoader 생성하기\n",
        "데이터를 일괄 처리로 로드하기 위해 DataLoader 클래스를 사용하여 데이터 로더를 생성합니다.  \n",
        "이를 통해 데이터를 일괄 처리로 로드하고 데이터를 섞고, 여러 개의 서브프로세스를 사용할 수 있습니다.  \n",
        "이 예에서는 배치 크기를 64로 사용합니다.  \n",
        "배치 크기는 GPU의 사용 가능한 메모리에 따라 결정되며 모델의 정확도에 영향을 줄 수 있습니다."
      ]
    },
    {
      "cell_type": "code",
      "execution_count": null,
      "metadata": {
        "id": "4O4f7IgW3fCk"
      },
      "outputs": [],
      "source": [
        "train_loader = torch.utils.data.DataLoader(\n",
        "    train_dataset,\n",
        "    batch_size=16,\n",
        "    shuffle=True,\n",
        "    num_workers=4\n",
        ")\n",
        "\n",
        "test_loader = torch.utils.data.DataLoader(\n",
        "    test_dataset,\n",
        "    batch_size=16,\n",
        "    shuffle=True,\n",
        "    num_workers=4\n",
        ")"
      ]
    },
    {
      "cell_type": "markdown",
      "metadata": {
        "id": "RctQcFVY3fCk"
      },
      "source": [
        "## model 정의하기"
      ]
    },
    {
      "cell_type": "markdown",
      "metadata": {
        "id": "Kap2jd0h3fCk"
      },
      "source": [
        "PyTorch TorchVision에서 제공하는 ResNet-18 모델을 사용합니다."
      ]
    },
    {
      "cell_type": "code",
      "execution_count": null,
      "metadata": {
        "id": "MB_BjOLo3fCl"
      },
      "outputs": [],
      "source": [
        "model = models.resnet18(pretrained=True)"
      ]
    },
    {
      "cell_type": "markdown",
      "metadata": {
        "id": "ZhkktjT43fCl"
      },
      "source": [
        "전이 학습(transfer learning)이라는 프로세스에서, 수백만 장의 이미지로 훈련된 사전 훈련된 모델을 다시 사용하여 가능한 매우 적은 데이터로 이루어진 새로운 작업에 활용할 수 있습니다.  \n",
        "- ResNet-18 상세설명 : https://github.com/pytorch/vision/blob/master/torchvision/models/resnet.py\n",
        "- 전이학습에 대한 유투브 설명: https://www.youtube.com/watch?v=yofjFQddwHE\n",
        "\n",
        "\n",
        "기본적으로, ResNet 모델은 fully connected (fc) 최종 레이어를 가지고 있으며, 입력 특성 수로 512를, 회귀를 위해 출력 특성 수로 1을 사용할 것입니다.  \n",
        "하지만, 우리는 x,y 두 개의 값을 도출해야 하기 때문에, 마지막 은닉층에 레이어를 하나 추가해서, 2개의 output 데이터가 나오도록 할 예정입니다.  \n",
        "\n",
        "마지막으로, 모델을 GPU에서 실행할 수 있도록 전송합니다."
      ]
    },
    {
      "cell_type": "code",
      "execution_count": null,
      "metadata": {
        "id": "4yiKEivI3fCm"
      },
      "outputs": [],
      "source": [
        "model.fc = torch.nn.Linear(512, 2)\n",
        "device = torch.device('cuda')\n",
        "model = model.to(device)"
      ]
    },
    {
      "cell_type": "markdown",
      "metadata": {
        "id": "1C2wAu7G3fCm"
      },
      "source": [
        "## model 훈련하기\n",
        "손실이 감소되면 최상의 모델을 저장하기 위해 50 에포크 동안 훈련합니다.  \n",
        "훈련을 모두 마치면, \"Success\" 가 출력됩니다."
      ]
    },
    {
      "cell_type": "code",
      "execution_count": null,
      "metadata": {
        "id": "pP8723sq3fCm"
      },
      "outputs": [],
      "source": [
        "NUM_EPOCHS = 50\n",
        "BEST_MODEL_PATH = 'best_steering_model_xy_test.pth'\n",
        "best_loss = 1e9\n",
        "\n",
        "optimizer = optim.Adam(model.parameters())\n",
        "\n",
        "for epoch in range(NUM_EPOCHS):\n",
        "\n",
        "    model.train()\n",
        "    train_loss = 0.0\n",
        "    for images, labels in iter(train_loader):\n",
        "        images = images.to(device)\n",
        "        labels = labels.to(device)\n",
        "        optimizer.zero_grad()\n",
        "        outputs = model(images)\n",
        "        loss = F.mse_loss(outputs, labels)\n",
        "        train_loss += float(loss)\n",
        "        loss.backward()\n",
        "        optimizer.step()\n",
        "    train_loss /= len(train_loader)\n",
        "\n",
        "    model.eval()\n",
        "    test_loss = 0.0\n",
        "    for images, labels in iter(test_loader):\n",
        "        images = images.to(device)\n",
        "        labels = labels.to(device)\n",
        "        outputs = model(images)\n",
        "        loss = F.mse_loss(outputs, labels)\n",
        "        test_loss += float(loss)\n",
        "    test_loss /= len(test_loader)\n",
        "\n",
        "    print('%f, %f' % (train_loss, test_loss))\n",
        "    if test_loss < best_loss:\n",
        "        #colab에서 model을 학습할 경우 아래 옵션을 추가한 코드를 실행해야 한다.\n",
        "        #torch.save(model.state_dict(), BEST_MODEL_PATH,_use_new_zipfile_serialization=False)\n",
        "        torch.save(model.state_dict(), BEST_MODEL_PATH)\n",
        "        best_loss = test_loss\n",
        "print('success')\n"
      ]
    },
    {
      "cell_type": "markdown",
      "metadata": {
        "id": "6-waI0AV3fCn"
      },
      "source": [
        "모델이 훈련되면 best_steering_model_xy.pth 파일이 생성됩니다.  \n",
        "이 파일은 다음 챕터인 Live Demo 노트북에서 추론에 사용할 수 있습니다.  \n",
        "인공지능 무인운반차량(AGV) 이외의 다른 기기에서 훈련했다면, 훈련된 model 파일을 road_following 예제 폴더와 같은 경로로 인공지능 무인운반차량(AGV)에 업로드해야 합니다."
      ]
    }
  ],
  "metadata": {
    "kernelspec": {
      "display_name": "Python 3",
      "language": "python",
      "name": "python3"
    },
    "language_info": {
      "codemirror_mode": {
        "name": "ipython",
        "version": 3
      },
      "file_extension": ".py",
      "mimetype": "text/x-python",
      "name": "python",
      "nbconvert_exporter": "python",
      "pygments_lexer": "ipython3",
      "version": "3.6.9"
    },
    "colab": {
      "provenance": [],
      "include_colab_link": true
    }
  },
  "nbformat": 4,
  "nbformat_minor": 0
}
