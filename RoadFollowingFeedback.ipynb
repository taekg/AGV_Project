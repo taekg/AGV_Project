{
  "cells": [
    {
      "cell_type": "markdown",
      "metadata": {
        "id": "view-in-github",
        "colab_type": "text"
      },
      "source": [
        "<a href=\"https://colab.research.google.com/github/taekg/AGV_Project/blob/main/RoadFollowingFeedback.ipynb\" target=\"_parent\"><img src=\"https://colab.research.google.com/assets/colab-badge.svg\" alt=\"Open In Colab\"/></a>"
      ]
    },
    {
      "cell_type": "markdown",
      "metadata": {
        "id": "QT2xmr3D3u2Z"
      },
      "source": [
        "# 5장. Road Following Feedback\n",
        "이전 챕터에서 우리는 직접 제작한 model 을 활용하여 Road Following을 진행하였습니다.  \n",
        "원활하게 동작하는 구간도 있고, 예상 외로 동작하는 구간도 발견할 수 있을 겁니다.  \n",
        "이번 챕터에서는 수동으로 인공지능 무인운반차량(AGV)을 움직여보면서, 실제 학습한 model이 구간에서 어떤 방향으로 가고자 하는 지를 살펴보며, 보강할 필요가 있는 데이터 셋을 찾는 코드를 실습해봅니다.  \n",
        "\n",
        "## 라이브러리 가져오기"
      ]
    },
    {
      "cell_type": "code",
      "execution_count": null,
      "metadata": {
        "id": "SpakzWfR3u2c"
      },
      "outputs": [],
      "source": [
        "import torchvision\n",
        "import torch\n",
        "import torchvision.transforms as transforms\n",
        "import torch.nn.functional as F\n",
        "import cv2\n",
        "import PIL.Image\n",
        "import numpy as np\n",
        "\n",
        "from IPython.display import display\n",
        "import ipywidgets\n",
        "import ipywidgets.widgets as widgets\n",
        "import traitlets\n",
        "from jetbot import Robot, Camera, bgr8_to_jpeg\n",
        "\n",
        "import threading\n",
        "import time"
      ]
    },
    {
      "cell_type": "markdown",
      "metadata": {
        "id": "QHTPtrlf3u2e"
      },
      "source": [
        "## model 파일 불러오기"
      ]
    },
    {
      "cell_type": "code",
      "execution_count": null,
      "metadata": {
        "id": "BKe55qKR3u2e"
      },
      "outputs": [],
      "source": [
        "model = torchvision.models.resnet18(pretrained=False)\n",
        "model.fc = torch.nn.Linear(512, 2)\n",
        "model.load_state_dict(torch.load('best_steering_model_xy_test.pth'))\n",
        "\n",
        "device = torch.device('cuda')\n",
        "model = model.to(device)\n",
        "model = model.eval().half()\n",
        "\n",
        "mean = torch.Tensor([0.485, 0.456, 0.406]).cuda().half()\n",
        "std = torch.Tensor([0.229, 0.224, 0.225]).cuda().half()\n",
        "print('model load success')"
      ]
    },
    {
      "cell_type": "markdown",
      "metadata": {
        "id": "JU85k-HB3u2f"
      },
      "source": [
        "## robot, camera 객체 생성하기"
      ]
    },
    {
      "cell_type": "code",
      "execution_count": null,
      "metadata": {
        "id": "Ky5Qfy7c3u2f"
      },
      "outputs": [],
      "source": [
        "robot = Robot()\n",
        "camera = Camera()"
      ]
    },
    {
      "cell_type": "markdown",
      "metadata": {
        "id": "d7alT3l73u2f"
      },
      "source": [
        "## 위젯 코드 추가하기"
      ]
    },
    {
      "cell_type": "code",
      "execution_count": null,
      "metadata": {
        "id": "UYLD89Vp3u2f"
      },
      "outputs": [],
      "source": [
        "#display code\n",
        "\n",
        "roadlbl = ipywidgets.Label(value=\"Road Recog\")\n",
        "image_widget = widgets.Image(format='jpeg', width=224, height=224)\n",
        "x_slider = widgets.FloatSlider(min=-1.0, max=1.0, step=0.001, description='x')\n",
        "y_slider = ipywidgets.FloatSlider(min=0, max=1.0, orientation='vertical', description='y')\n",
        "hbox = widgets.HBox([image_widget, y_slider])\n",
        "vbox = widgets.VBox([roadlbl, hbox, x_slider])\n",
        "\n",
        "# create buttons\n",
        "button_layout = widgets.Layout(width='100px', height='80px', align_self='center')\n",
        "stop_button = widgets.Button(description='stop', button_style='danger', layout=button_layout)\n",
        "forward_button = widgets.Button(description='forward', layout=button_layout)\n",
        "backward_button = widgets.Button(description='backward', layout=button_layout)\n",
        "left_button = widgets.Button(description='left', layout=button_layout)\n",
        "right_button = widgets.Button(description='right', layout=button_layout)\n",
        "# 레이아웃 생성 후,버튼 5개 생성\n",
        "\n",
        "# display buttons\n",
        "middle_box = widgets.HBox([left_button, stop_button, right_button], layout=widgets.Layout(align_self='center'))\n",
        "controls_box = widgets.VBox([forward_button, middle_box, backward_button])\n",
        "\n",
        "hbox2 = widgets.HBox([vbox, controls_box])\n",
        "display(hbox2)"
      ]
    },
    {
      "cell_type": "markdown",
      "metadata": {
        "id": "I2Nlo8ta3u2f"
      },
      "source": [
        "## 버튼에 대응할 함수 생성과 연결하기"
      ]
    },
    {
      "cell_type": "code",
      "execution_count": null,
      "metadata": {
        "id": "qJ-EqvOp3u2g"
      },
      "outputs": [],
      "source": [
        "def stop(change):\n",
        "    robot.stop()\n",
        "\n",
        "def step_forward(change):\n",
        "    robot.forward(0.4)\n",
        "\n",
        "def step_backward(change):\n",
        "    robot.backward(0.4)\n",
        "\n",
        "def step_left(change):\n",
        "    robot.left(0.3)\n",
        "    time.sleep(0.5)\n",
        "    robot.stop()\n",
        "\n",
        "def step_right(change):\n",
        "    robot.right(0.3)\n",
        "    time.sleep(0.5)\n",
        "    robot.stop()\n",
        "\n",
        "stop_button.on_click(stop)\n",
        "forward_button.on_click(step_forward)\n",
        "backward_button.on_click(step_backward)\n",
        "left_button.on_click(step_left)\n",
        "right_button.on_click(step_right)"
      ]
    },
    {
      "cell_type": "markdown",
      "metadata": {
        "id": "3hMsMRea3u2g"
      },
      "source": [
        "## 전처리 함수 정의하기\n",
        "이전 챕터와 마찬가지로, 전처리 함수를 정의합니다.  \n",
        "이미지에 model이 가고자 하는 방향을 원과 직선을 이용하여 표시합니다."
      ]
    },
    {
      "cell_type": "code",
      "execution_count": null,
      "metadata": {
        "id": "xqChazAV3u2g"
      },
      "outputs": [],
      "source": [
        "def preprocess(imageInput):\n",
        "    image = PIL.Image.fromarray(imageInput)\n",
        "    image = transforms.functional.to_tensor(image).to(device).half()\n",
        "    image.sub_(mean[:, None, None]).div_(std[:, None, None])\n",
        "    return image[None, ...]\n",
        "\n",
        "th_flag = True\n",
        "def display_xy():\n",
        "    while th_flag:\n",
        "        image = camera.value\n",
        "        xy = model(preprocess(image)).detach().float().cpu().numpy().flatten()\n",
        "        x = xy[0]\n",
        "        y = (0.5 - xy[1]) / 2.0\n",
        "\n",
        "        x_slider.value = x\n",
        "        y_slider.value = y\n",
        "\n",
        "        x = int(x * 224 / 2 + 112)\n",
        "        y = int(y * 224 / 2 + 112)\n",
        "        image = cv2.circle(image, (x, y), 8, (0, 255, 0), 3)\n",
        "        image = cv2.circle(image, (112, 224), 8, (0, 0,255), 3)\n",
        "        image = cv2.line(image, (x,y), (112,224), (255,0,0), 3)\n",
        "        image_widget.value = bgr8_to_jpeg(image)\n",
        "        time.sleep(0.1)"
      ]
    },
    {
      "cell_type": "markdown",
      "metadata": {
        "id": "TxFroKtg3u2g"
      },
      "source": [
        "## image_thread 객체 생성하기\n",
        "객체를 생성하고 start() 를 하면, 카메라로 촬영한 길을 보고 가야할 방향을 이미지에 표시해서 송출합니다.  \n",
        "예상 외로 방향이 다르게 표시되는 구간을 찾아서 데이터를 재수집합니다.  \n",
        "데이터를 재수집하고 나서, 다시 model을 훈련시켜서 live demo까지 진행합니다.  "
      ]
    },
    {
      "cell_type": "code",
      "execution_count": null,
      "metadata": {
        "id": "0xMCOS5e3u2h"
      },
      "outputs": [],
      "source": [
        "image_thread = threading.Thread(target = display_xy)\n",
        "image_thread.start()"
      ]
    },
    {
      "cell_type": "markdown",
      "metadata": {
        "id": "FuttG0YE3u2h"
      },
      "source": [
        "실행 결과  \n",
        "\n"
      ]
    },
    {
      "cell_type": "markdown",
      "metadata": {
        "id": "cqesMcTV3u2h"
      },
      "source": [
        "\n",
        "\n",
        "## 프로젝트 종료하기"
      ]
    },
    {
      "cell_type": "code",
      "execution_count": null,
      "metadata": {
        "id": "eQpW6-mi3u2h"
      },
      "outputs": [],
      "source": [
        "camera.stop()\n",
        "robot.stop()\n",
        "th_flag = False\n",
        "image_thread.join()"
      ]
    },
    {
      "cell_type": "markdown",
      "metadata": {
        "id": "2fBxyVdj3u2h"
      },
      "source": [
        "이번 챕터에서 Road Following 을 원활히 할 수 있도록 model을 확실히 학습시키도록 합니다.  \n",
        "다음 챕터에서는 Jupyter Widget 에 대해서 자세히 학습하고, Firebase DB 세팅하는 법을 실습합니다."
      ]
    }
  ],
  "metadata": {
    "kernelspec": {
      "display_name": "Python 3",
      "language": "python",
      "name": "python3"
    },
    "language_info": {
      "codemirror_mode": {
        "name": "ipython",
        "version": 3
      },
      "file_extension": ".py",
      "mimetype": "text/x-python",
      "name": "python",
      "nbconvert_exporter": "python",
      "pygments_lexer": "ipython3",
      "version": "3.6.9"
    },
    "colab": {
      "provenance": [],
      "include_colab_link": true
    }
  },
  "nbformat": 4,
  "nbformat_minor": 0
}